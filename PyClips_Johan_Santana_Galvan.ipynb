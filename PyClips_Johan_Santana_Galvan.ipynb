{
  "nbformat": 4,
  "nbformat_minor": 0,
  "metadata": {
    "colab": {
      "provenance": [],
      "authorship_tag": "ABX9TyPvz6rehGvzZ5pBPEJaJzjB",
      "include_colab_link": true
    },
    "kernelspec": {
      "name": "python3",
      "display_name": "Python 3"
    },
    "language_info": {
      "name": "python"
    }
  },
  "cells": [
    {
      "cell_type": "markdown",
      "metadata": {
        "id": "view-in-github",
        "colab_type": "text"
      },
      "source": [
        "<a href=\"https://colab.research.google.com/github/JohanSantanaGalvanJob/PyCLIPS/blob/main/PyClips_Johan_Santana_Galvan.ipynb\" target=\"_parent\"><img src=\"https://colab.research.google.com/assets/colab-badge.svg\" alt=\"Open In Colab\"/></a>"
      ]
    },
    {
      "cell_type": "markdown",
      "source": [
        "Instalamos ClipsPy"
      ],
      "metadata": {
        "id": "FFBNcHshkbqf"
      }
    },
    {
      "cell_type": "code",
      "execution_count": null,
      "metadata": {
        "colab": {
          "base_uri": "https://localhost:8080/"
        },
        "id": "bqvSMXQzkaLH",
        "outputId": "9d58285b-6a68-40a7-e357-4deb865da6be"
      },
      "outputs": [
        {
          "output_type": "stream",
          "name": "stdout",
          "text": [
            "Collecting clipspy\n",
            "  Downloading clipspy-1.0.3-cp310-cp310-manylinux_2_17_x86_64.manylinux2014_x86_64.whl (891 kB)\n",
            "\u001b[2K     \u001b[90m━━━━━━━━━━━━━━━━━━━━━━━━━━━━━━━━━━━━━━━━\u001b[0m \u001b[32m891.6/891.6 kB\u001b[0m \u001b[31m5.7 MB/s\u001b[0m eta \u001b[36m0:00:00\u001b[0m\n",
            "\u001b[?25hRequirement already satisfied: cffi>=1.0.0 in /usr/local/lib/python3.10/dist-packages (from clipspy) (1.16.0)\n",
            "Requirement already satisfied: pycparser in /usr/local/lib/python3.10/dist-packages (from cffi>=1.0.0->clipspy) (2.21)\n",
            "Installing collected packages: clipspy\n",
            "Successfully installed clipspy-1.0.3\n"
          ]
        }
      ],
      "source": [
        "!pip install clipspy"
      ]
    },
    {
      "cell_type": "markdown",
      "source": [
        "Importamos las librerías."
      ],
      "metadata": {
        "id": "fDbVGLA4k98Z"
      }
    },
    {
      "cell_type": "code",
      "source": [
        "import clips\n",
        "import logging"
      ],
      "metadata": {
        "id": "Ytwmj50vk6O0"
      },
      "execution_count": null,
      "outputs": []
    },
    {
      "cell_type": "code",
      "source": [
        "log_format = '%(message)s'\n",
        "logging.basicConfig(level=logging.DEBUG,format=log_format)"
      ],
      "metadata": {
        "id": "EOIAQSrJcv7a"
      },
      "execution_count": null,
      "outputs": []
    },
    {
      "cell_type": "code",
      "source": [
        "DEFTEMPLATE_STRING = \"\"\"\n",
        "(deftemplate Camino\n",
        "    (slot Inicio)\n",
        "    (slot Destino)\n",
        "    (slot Coste)\n",
        ")\n",
        "\"\"\""
      ],
      "metadata": {
        "id": "Ubukhexdlogv"
      },
      "execution_count": null,
      "outputs": []
    },
    {
      "cell_type": "code",
      "source": [
        "DEFFACTS_STRING = \"\"\"\n",
        "(deffacts Nodos\n",
        "\n",
        "(Camino (Inicio A) (Destino B) (Coste 10))\n",
        "(Camino (Inicio A) (Destino C) (Coste 30))\n",
        "(Camino (Inicio A) (Destino D) (Coste 100))\n",
        "(Camino (Inicio B) (Destino C) (Coste 5))\n",
        "(Camino (Inicio B) (Destino D) (Coste 9999))\n",
        "(Camino (Inicio C) (Destino D) (Coste 7)))\n",
        "\n",
        "\"\"\""
      ],
      "metadata": {
        "id": "-LeBoWQYl5Ig"
      },
      "execution_count": null,
      "outputs": []
    },
    {
      "cell_type": "code",
      "source": [
        "DEFRULE_STRING = \"\"\"\n",
        "(defrule actualizar\n",
        "    ?hecho1 <- (Camino (Inicio ?Inicio) (Destino ?Destino) (Coste ?Coste1))\n",
        "    (Camino (Inicio ?Intermedio) (Destino ?Destino) (Coste ?Coste2))\n",
        "    (Camino (Inicio ?Inicio) (Destino ?Intermedio) (Coste ?Coste3))\n",
        "    (test (< (+ ?Coste2 ?Coste3) ?Coste1))\n",
        "    =>\n",
        "    (modify ?hecho1 (Coste (+ ?Coste2 ?Coste3))))\n",
        "\n",
        "\"\"\"\n",
        "\n",
        "DEFRULE_STRING_2 = \"\"\"\n",
        "(defrule encontrar-camino-mas-corto\n",
        "    ?camino <- (Camino (Inicio ?Inicio) (Destino ?Destino) (Coste ?costo))\n",
        "    (not (Camino (Inicio ?Inicio) (Destino ?Destino) (Coste ?otro&:(< ?otro ?costo))))\n",
        "    =>\n",
        "    (printout t \"El costo del camino más corto de \" ?Inicio \" a \" ?Destino \" es: \" ?costo crlf))\n",
        "\"\"\""
      ],
      "metadata": {
        "id": "aBwqTcgQnmdk"
      },
      "execution_count": null,
      "outputs": []
    },
    {
      "cell_type": "code",
      "source": [
        "environment = clips.Environment()\n",
        "router = clips.LoggingRouter()\n",
        "environment.add_router(router)"
      ],
      "metadata": {
        "id": "YxRgXz4_m2j5"
      },
      "execution_count": null,
      "outputs": []
    },
    {
      "cell_type": "code",
      "source": [
        "environment.build(DEFTEMPLATE_STRING)\n",
        "environment.build(DEFFACTS_STRING)\n",
        "environment.reset()"
      ],
      "metadata": {
        "id": "IKVeVxFfdhTK"
      },
      "execution_count": null,
      "outputs": []
    },
    {
      "cell_type": "code",
      "source": [
        "template = environment.find_template('Camino')"
      ],
      "metadata": {
        "id": "_cp15BAJd6n1"
      },
      "execution_count": null,
      "outputs": []
    },
    {
      "cell_type": "code",
      "source": [
        "environment.build(DEFRULE_STRING)\n",
        "environment.run()\n",
        "environment.build(DEFRULE_STRING_2)\n",
        "environment.run()"
      ],
      "metadata": {
        "colab": {
          "base_uri": "https://localhost:8080/"
        },
        "id": "UCqhVV6Vd0gU",
        "outputId": "5297de42-ccfa-4337-d54a-bbb241b35e56"
      },
      "execution_count": null,
      "outputs": [
        {
          "output_type": "stream",
          "name": "stderr",
          "text": [
            "El costo del camino más corto de B a C es: 5\n",
            "El costo del camino más corto de A a C es: 15\n",
            "El costo del camino más corto de A a B es: 10\n",
            "El costo del camino más corto de C a D es: 7\n",
            "El costo del camino más corto de B a D es: 12\n",
            "El costo del camino más corto de A a D es: 22\n"
          ]
        },
        {
          "output_type": "execute_result",
          "data": {
            "text/plain": [
              "6"
            ]
          },
          "metadata": {},
          "execution_count": 31
        }
      ]
    },
    {
      "cell_type": "markdown",
      "source": [
        "PARTE DE GRAFO MÁS COMPLICADO"
      ],
      "metadata": {
        "id": "FcLFu94reMB6"
      }
    },
    {
      "cell_type": "code",
      "source": [
        "DEFTEMPLATE_STRING = \"\"\"\n",
        "(deftemplate Camino\n",
        "    (slot Inicio)\n",
        "    (slot Destino)\n",
        "    (slot Coste)\n",
        ")\n",
        "\"\"\""
      ],
      "metadata": {
        "id": "ysymRjbCeJVo"
      },
      "execution_count": null,
      "outputs": []
    },
    {
      "cell_type": "code",
      "source": [
        "DEFFACTS_STRING = \"\"\"\n",
        "(deffacts Nodos\n",
        "(Camino (Inicio A) (Destino B) (Coste 10))\n",
        "(Camino (Inicio A) (Destino C) (Coste 30))\n",
        "(Camino (Inicio A) (Destino D) (Coste 100))\n",
        "(Camino (Inicio A) (Destino E) (Coste 40))\n",
        "(Camino (Inicio A) (Destino F) (Coste 9))\n",
        "(Camino (Inicio B) (Destino C) (Coste 5))\n",
        "(Camino (Inicio B) (Destino D) (Coste 9999))\n",
        "(Camino (Inicio B) (Destino E) (Coste 65))\n",
        "(Camino (Inicio B) (Destino F) (Coste 80))\n",
        "(Camino (Inicio C) (Destino D) (Coste 7))\n",
        "(Camino (Inicio C) (Destino E) (Coste 4))\n",
        "(Camino (Inicio C) (Destino F) (Coste 12))\n",
        "(Camino (Inicio D) (Destino E) (Coste 9999))\n",
        "(Camino (Inicio D) (Destino C) (Coste 7))\n",
        "(Camino (Inicio D) (Destino F) (Coste 3))\n",
        "(Camino (Inicio E) (Destino F) (Coste 14))\n",
        "(Camino (Inicio F) (Destino D) (Coste 3))\n",
        "\n",
        ")\n",
        "\n",
        "\n",
        "\"\"\""
      ],
      "metadata": {
        "id": "PPyjmU-Secei"
      },
      "execution_count": null,
      "outputs": []
    },
    {
      "cell_type": "code",
      "source": [
        "DEFRULE_STRING = \"\"\"\n",
        "(defrule actualizar\n",
        "    ?hecho1 <- (Camino (Inicio ?Inicio) (Destino ?Destino) (Coste ?Coste1))\n",
        "    (Camino (Inicio ?Intermedio) (Destino ?Destino) (Coste ?Coste2))\n",
        "    (Camino (Inicio ?Inicio) (Destino ?Intermedio) (Coste ?Coste3))\n",
        "    (test (< (+ ?Coste2 ?Coste3) ?Coste1))\n",
        "    =>\n",
        "    (modify ?hecho1 (Coste (+ ?Coste2 ?Coste3))))\n",
        "\n",
        "\"\"\"\n",
        "\n",
        "DEFRULE_STRING_2 = \"\"\"\n",
        "(defrule encontrar-camino-mas-corto\n",
        "    ?camino <- (Camino (Inicio ?Inicio) (Destino ?Destino) (Coste ?costo))\n",
        "    (not (Camino (Inicio ?Inicio) (Destino ?Destino) (Coste ?otro&:(< ?otro ?costo))))\n",
        "    =>\n",
        "    (printout t \"El costo del camino más corto de \" ?Inicio \" a \" ?Destino \" es: \" ?costo crlf))\n",
        "\"\"\""
      ],
      "metadata": {
        "id": "8piwSDS3ekOg"
      },
      "execution_count": null,
      "outputs": []
    },
    {
      "cell_type": "code",
      "source": [
        "environment = clips.Environment()\n",
        "router = clips.LoggingRouter()\n",
        "environment.add_router(router)"
      ],
      "metadata": {
        "id": "I9NKf1ANenmt"
      },
      "execution_count": null,
      "outputs": []
    },
    {
      "cell_type": "code",
      "source": [
        "environment.build(DEFTEMPLATE_STRING)\n",
        "environment.build(DEFFACTS_STRING)\n",
        "environment.reset()"
      ],
      "metadata": {
        "id": "_mEmQSm3epQN"
      },
      "execution_count": null,
      "outputs": []
    },
    {
      "cell_type": "code",
      "source": [
        "template = environment.find_template('Camino')"
      ],
      "metadata": {
        "id": "4Q8qg2W5esyu"
      },
      "execution_count": null,
      "outputs": []
    },
    {
      "cell_type": "code",
      "source": [
        "environment.build(DEFRULE_STRING)\n",
        "environment.run()\n",
        "environment.build(DEFRULE_STRING_2)\n",
        "environment.run()"
      ],
      "metadata": {
        "colab": {
          "base_uri": "https://localhost:8080/"
        },
        "id": "obhA0fApeuq_",
        "outputId": "803e85bd-e521-4d63-bb52-966e2c2a805e"
      },
      "execution_count": null,
      "outputs": [
        {
          "output_type": "stream",
          "name": "stderr",
          "text": [
            "El costo del camino más corto de B a C es: 5\n",
            "El costo del camino más corto de D a C es: 7\n",
            "El costo del camino más corto de A a C es: 15\n",
            "El costo del camino más corto de A a B es: 10\n",
            "El costo del camino más corto de A a F es: 9\n",
            "El costo del camino más corto de D a F es: 3\n",
            "El costo del camino más corto de E a F es: 14\n",
            "El costo del camino más corto de B a F es: 15\n",
            "El costo del camino más corto de C a F es: 10\n",
            "El costo del camino más corto de C a E es: 4\n",
            "El costo del camino más corto de A a E es: 19\n",
            "El costo del camino más corto de D a E es: 11\n",
            "El costo del camino más corto de B a E es: 9\n",
            "El costo del camino más corto de C a D es: 7\n",
            "El costo del camino más corto de F a D es: 3\n",
            "El costo del camino más corto de A a D es: 12\n",
            "El costo del camino más corto de B a D es: 12\n"
          ]
        },
        {
          "output_type": "execute_result",
          "data": {
            "text/plain": [
              "17"
            ]
          },
          "metadata": {},
          "execution_count": 38
        }
      ]
    }
  ]
}